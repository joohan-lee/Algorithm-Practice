{
  "nbformat": 4,
  "nbformat_minor": 0,
  "metadata": {
    "colab": {
      "name": "1762_Buildings With an Ocean View.ipynb",
      "provenance": [],
      "collapsed_sections": [],
      "toc_visible": true,
      "authorship_tag": "ABX9TyPrnVIdtbzE2I77fStpq6Ok",
      "include_colab_link": true
    },
    "kernelspec": {
      "name": "python3",
      "display_name": "Python 3"
    },
    "language_info": {
      "name": "python"
    }
  },
  "cells": [
    {
      "cell_type": "markdown",
      "metadata": {
        "id": "view-in-github",
        "colab_type": "text"
      },
      "source": [
        "<a href=\"https://colab.research.google.com/github/joohan-lee/Algorithm-Practice/blob/main/1762_Buildings_With_an_Ocean_View.ipynb\" target=\"_parent\"><img src=\"https://colab.research.google.com/assets/colab-badge.svg\" alt=\"Open In Colab\"/></a>"
      ]
    },
    {
      "cell_type": "markdown",
      "source": [
        "# Related Topics\n",
        "- Array\n",
        "- Stack\n",
        "- Monotonic Stack"
      ],
      "metadata": {
        "id": "3jq4gx6XHgB4"
      }
    },
    {
      "cell_type": "markdown",
      "source": [
        "# Description\n",
        "There are `n` buildings in a line. You are given an integer array `heights` of size `n` that represents the heights of the buildings in the line.\n",
        "\n",
        "The ocean is to the right of the buildings. A building has an ocean view if the building can see the ocean without obstructions. Formally, a building has an ocean view if all the buildings to its right have a **smaller** height.\n",
        "\n",
        "Return a list of indices **(0-indexed)** of buildings that have an ocean view, sorted in increasing order.\n",
        "\n",
        "**Example 1:**\n",
        "\n",
        "```\n",
        "Input: heights = [4,2,3,1]\n",
        "Output: [0,2,3]\n",
        "Explanation: Building 1 (0-indexed) does not have an ocean view because building 2 is taller.\n",
        "\n",
        "```\n",
        "\n",
        "**Example 2:**\n",
        "\n",
        "```\n",
        "Input: heights = [4,3,2,1]\n",
        "Output: [0,1,2,3]\n",
        "Explanation: All the buildings have an ocean view.\n",
        "\n",
        "```\n",
        "\n",
        "**Example 3:**\n",
        "\n",
        "```\n",
        "Input: heights = [1,3,2,4]\n",
        "Output: [3]\n",
        "Explanation: Only building 3 has an ocean view.\n",
        "\n",
        "```\n",
        "\n",
        "**Constraints:**\n",
        "\n",
        "- `1 <= heights.length <= 105`\n",
        "- `1 <= heights[i] <= 109`"
      ],
      "metadata": {
        "id": "mt6RE5tHE1n4"
      }
    },
    {
      "cell_type": "markdown",
      "source": [
        "# Solutions"
      ],
      "metadata": {
        "id": "HYB4ShIYFx6B"
      }
    },
    {
      "cell_type": "markdown",
      "source": [
        "## Python"
      ],
      "metadata": {
        "id": "-Eh6RuQMTyTA"
      }
    },
    {
      "cell_type": "code",
      "execution_count": 8,
      "metadata": {
        "id": "gz12xpFhD0df"
      },
      "outputs": [],
      "source": [
        "class Solution:\n",
        "    def findBuildings(self, heights):\n",
        "\n",
        "        # if peak is smaller than cur, pop the peak\n",
        "        # elif peak is bigger than cur or equal, leave\n",
        "        stack = []\n",
        "        idx = []\n",
        "        stack.append(heights[0])\n",
        "        idx.append(0)\n",
        "        for i in range(1,len(heights)):\n",
        "            while stack and stack[-1] <= heights[i]:\n",
        "                stack.pop()\n",
        "                idx.pop()\n",
        "            stack.append(heights[i])\n",
        "            idx.append(i)\n",
        "        return sorted(idx)"
      ]
    },
    {
      "cell_type": "markdown",
      "source": [
        ">\n",
        "> - Runtime: 1194 ms, faster than 22.12% of Python3 online submissions for Buildings With an Ocean View.\n",
        "> - Memory Usage: 31.8 MB, less than 13.55% of Python3 online submissions for Buildings With an Ocean View.\n",
        "\n",
        "## Unit Test"
      ],
      "metadata": {
        "id": "M2h6dy_ZP91j"
      }
    },
    {
      "cell_type": "code",
      "source": [
        "import unittest\n",
        "class TestNotebook(unittest.TestCase):\n",
        "    \n",
        "    def test_add(self):\n",
        "        self.assertEqual(Solution.findBuildings(self,[4,2,3,1]), [0,2,3])\n",
        "\n",
        "unittest.main(argv=[''], verbosity=2, exit=False)"
      ],
      "metadata": {
        "colab": {
          "base_uri": "https://localhost:8080/"
        },
        "id": "b96MYyAaPhAl",
        "outputId": "07b4bbb7-6c0c-4a0e-8b58-d89ac1049762"
      },
      "execution_count": 10,
      "outputs": [
        {
          "output_type": "stream",
          "name": "stderr",
          "text": [
            "test_add (__main__.TestNotebook) ... ok\n",
            "\n",
            "----------------------------------------------------------------------\n",
            "Ran 1 test in 0.003s\n",
            "\n",
            "OK\n"
          ]
        },
        {
          "output_type": "execute_result",
          "data": {
            "text/plain": [
              "<unittest.main.TestProgram at 0x7f5dfa33d190>"
            ]
          },
          "metadata": {},
          "execution_count": 10
        }
      ]
    },
    {
      "cell_type": "markdown",
      "source": [
        "\n",
        "\n",
        "# Complexity Analysis\n",
        "\n",
        "- Time complexity :We iterate the array linearly, so $O(N)$.\n",
        "- Space complexity :I used two additional space, stack and idx, in the worst case, both may have $N-1$ indices. Thus, overall, $O(N)$.\n",
        "\n",
        "# 해설\n",
        "\n",
        "해설 참고자료\n",
        "\n",
        "[Account Login - LeetCode](https://leetcode.com/problems/buildings-with-an-ocean-view/solution/)\n",
        "\n",
        "```python\n",
        "class Solution:\n",
        "    def findBuildings(self, heights: List[int]) -> List[int]:\n",
        "        n = len(heights)\n",
        "        answer = []\n",
        "\n",
        "        for current in range(n):\n",
        "            # If the current building is taller, \n",
        "            # it will block the shorter building's ocean view to its left.\n",
        "            # So we pop all the shorter buildings that have been added before.\n",
        "            while answer and heights[answer[-1]] <= heights[current]:\n",
        "                answer.pop()\n",
        "            answer.append(current)\n",
        "            \n",
        "        return answer\n",
        "```"
      ],
      "metadata": {
        "id": "nARuf28vGCc1"
      }
    }
  ]
}
